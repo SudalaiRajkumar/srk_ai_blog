{
 "cells": [
  {
   "cell_type": "code",
   "execution_count": 1,
   "id": "195f0cc1-d0e1-4692-ad58-6f4272282d50",
   "metadata": {},
   "outputs": [
    {
     "data": {
      "text/plain": [
       "True"
      ]
     },
     "execution_count": 1,
     "metadata": {},
     "output_type": "execute_result"
    }
   ],
   "source": [
    "import os\n",
    "from crewai import Agent\n",
    "from crewai import Task\n",
    "from crewai import Crew, Process\n",
    "from crewai_tools import BaseTool\n",
    "from duckduckgo_search import DDGS\n",
    "\n",
    "from dotenv import load_dotenv\n",
    "\n",
    "load_dotenv()"
   ]
  },
  {
   "cell_type": "code",
   "execution_count": 2,
   "id": "f1f290b7-009f-416d-b023-e4245e10dd88",
   "metadata": {},
   "outputs": [],
   "source": [
    "os.environ[\"OPENAI_MODEL_NAME\"] = \"gpt-3.5-turbo\""
   ]
  },
  {
   "cell_type": "code",
   "execution_count": 3,
   "id": "7d1c71e3-e6c7-414c-88ec-54ab8c8b838f",
   "metadata": {},
   "outputs": [
    {
     "data": {
      "text/plain": [
       "'gpt-3.5-turbo'"
      ]
     },
     "execution_count": 3,
     "metadata": {},
     "output_type": "execute_result"
    }
   ],
   "source": [
    "os.environ[\"OPENAI_MODEL_NAME\"]"
   ]
  },
  {
   "cell_type": "code",
   "execution_count": 4,
   "id": "e71caf5a-2f41-4223-96b7-3b2caa1f4a8b",
   "metadata": {},
   "outputs": [],
   "source": [
    "class NewsSearchTool(BaseTool):\n",
    "    name: str = \"Latest News Search tool\"\n",
    "    description: str = \"News search tool that searches the latest news on the given topic from internet and provides the results.\"\n",
    "\n",
    "    def _run(self, topic: str) -> str:\n",
    "        ddgs = DDGS()\n",
    "        results = ddgs.news(keywords=topic, timelimit=\"d\", max_results=20)\n",
    "        # Your tool's logic here\n",
    "        result_string=\"\"\n",
    "        for result in results:\n",
    "            result_string += f\"Title: {result['title']} \\n Description: {result['body']}\\n\\n\"\n",
    "        if len(result_string.strip()) < 2:\n",
    "            result_string=\"No news found for the given keyword\"\n",
    "        return result_string.strip()\n",
    "\n",
    "news_search_tool = NewsSearchTool()"
   ]
  },
  {
   "cell_type": "code",
   "execution_count": 5,
   "id": "8d6cce81-ea34-4601-9c25-52add6c99769",
   "metadata": {},
   "outputs": [],
   "source": [
    "# Creating a researcher agent with memory and verbose mode\n",
    "researcher = Agent(\n",
    "  role='Researcher',\n",
    "  goal='Get the latest news in {topic}',\n",
    "  verbose=True,\n",
    "  memory=True,\n",
    "  backstory=(\n",
    "      \"As a knowledge enthusiast, you always look for new happenings on a given topic \"\n",
    "      \"and share the knowledge with broader community.\"\n",
    "  ),\n",
    "  tools=[news_search_tool],\n",
    ")"
   ]
  },
  {
   "cell_type": "code",
   "execution_count": 6,
   "id": "3767c37c-8fe8-4362-9a7d-9de323b26706",
   "metadata": {},
   "outputs": [],
   "source": [
    "# Creating a writer agent with custom tools and delegation capability\n",
    "summarizer = Agent(\n",
    "  role='Summarizer',\n",
    "  goal='Summarize the latest news in {topic}',\n",
    "  verbose=True,\n",
    "  memory=True,\n",
    "  backstory=(\n",
    "    \"With a flair for simplifying complex topics, you \"\n",
    "    \"remove redundant information and summarize the \"\n",
    "    \"discoveries in an accessible manner.\"\n",
    "  ),\n",
    "  allow_delegation=False\n",
    ")"
   ]
  },
  {
   "cell_type": "code",
   "execution_count": 7,
   "id": "19a0261b-72fb-45be-a2d8-c3924e50dd1d",
   "metadata": {},
   "outputs": [],
   "source": [
    "# Research task\n",
    "research_task = Task(\n",
    "  description=(\n",
    "    \"Get the latest news in {topic}.\"\n",
    "  ),\n",
    "  expected_output='Points covering the latest news on {topic}.',\n",
    "  tools=[news_search_tool],\n",
    "  agent=researcher,\n",
    ")\n",
    "\n",
    "# Summarizer task \n",
    "summarize_task = Task(\n",
    "  description=(\n",
    "      \"Given all the news about the {topic}, summarize them to 2 or 3 bullet points. Discard the news which do not have central focus on {topic}.\"\n",
    "      \"If no news is relevant, return that no news found for the {topic}\"\n",
    "  ),\n",
    "  expected_output='2 or 3 summarized bullet points, each one focussing on one specific news about the {topic}. If no news found, return no news found',\n",
    "  agent=summarizer,\n",
    "  output_file='news_summary.md',  # Example of output customization\n",
    ")"
   ]
  },
  {
   "cell_type": "code",
   "execution_count": 8,
   "id": "33529c07-d4cf-424f-b2da-c7ecd176abdd",
   "metadata": {},
   "outputs": [],
   "source": [
    "# Forming the tech-focused crew with some enhanced configurations\n",
    "crew = Crew(\n",
    "  agents=[researcher, summarizer],\n",
    "  tasks=[research_task, summarize_task],\n",
    "  process=Process.sequential,  # Optional: Sequential task execution is default\n",
    ")"
   ]
  },
  {
   "cell_type": "code",
   "execution_count": 9,
   "id": "0a504e5d-b8b2-45aa-949f-468fee29220c",
   "metadata": {},
   "outputs": [
    {
     "name": "stdout",
     "output_type": "stream",
     "text": [
      "\n",
      "\n",
      "\u001b[1m> Entering new CrewAgentExecutor chain...\u001b[0m\n",
      "\u001b[32;1m\u001b[1;3mI need to use the \"Latest News Search tool\" to get the latest news on HDFC Bank.\n",
      "\n",
      "Action:\n",
      "Latest News Search tool\n",
      "\n",
      "Action Input:\n",
      "{\n",
      "  \"topic\": \"HDFC Bank\"\n",
      "}\n",
      "\u001b[0m\u001b[95m \n",
      "\n",
      "Title: HDFC Bank poised for bullish breakout, says CLSA analyst \n",
      " Description: CLSA's Laurence Balanco predicts bullish breakout for HDFC Bank stock, targeting 35-38% increase if resistance levels are surpassed.\n",
      "\n",
      "Title: Regulatory concerns, bank charges force many fintechs to pause rent payments via credit cards \n",
      " Description: There has been no official communication from RBI to any of the ecosystem partners however, the regulator's concerns stem from a product being used for unintended purposes\n",
      "\n",
      "Title: Nifty, Nifty Bank, CPSE rejigs today; all eyes on NTPC, ITC, HDFC Bank, BEL, RIL shares \n",
      " Description: Bharti Airtel, NTPC Ltd, Kotak Mahindra Bank Ltd, and ITC Ltd could attract net passive inflows to the tune of $36-$52 million due to adjustments while others such as Bharat Electronics Ltd, Reliance Industries, Larsen & Toubro Ltd and HDFC Bank Ltd are ...\n",
      "\n",
      "Title: Banking boom sends Sensex soaring past the historic 78,000 mark \n",
      " Description: India Inc is experiencing strong earnings growth, buoyed by a stable government and the promise of policy continuity, which will continue to attract more investors to the Indian market. Moving forward,\n",
      "\n",
      "Title: HDFC Bank - Intimation Under Regulation 30 Of SEBI (Listing Obligations And Disclosure Requirements) Regulations, 2015 \n",
      " Description: Advisory Alert: It has come to our attention that certain individuals are representing themselves as affiliates of Moneycontrol and soliciting funds on the false promise of assured returns on their investments. We wish to reiterate that Moneycontrol does ...\n",
      "\n",
      "Title: Fixed Deposit: Bank FD rates have gone up, should you invest? Experts answer \n",
      " Description: Premium Bank FDs and fixed income mutual funds offer different benefits and considerations for investors, from security and stable returns to liquidity and tax implications. Leading banks such as SBI and HDFC Bank have increased their fixed deposit (FD ...\n",
      "\n",
      "Title: ICICI Bank (IBN) is Now 18th Largest Bank Globally: Worth a Look? \n",
      " Description: Last year, UBS acquired Credit Suisse to become the biggest Swiss bank. Also, IBN is now the second lender from India to cross the $100 billion market cap mark after HDFC Bank Limited HDB. HDB has a market cap of roughly $119 billion. After a decent price ...\n",
      "\n",
      "Title: UP bank employee, 30, dies of heart attack while working | Caught on CCTV \n",
      " Description: The employee, identified as 30-year-old Rajesh Shinde from Hamirpur district, was performing his duties when he suddenly fell unconscious in his chair.\n",
      "\n",
      "Title: Shocking Video: 30-Year-Old Bank Manager Dies Of Heart Attack While At Work In Office In UP's Mahoba \n",
      " Description: In the video, 30-year-old Rajesh Kumar Shinde from Hamirpur, serving as an Agri Regional Manager at HDFC Bank's Mahoba headquarters, can be seen suddenly collapsing while seated at his desk. His colleagues can be seen in a state of confusion and panic.\n",
      "\n",
      "Title: Experts Top Stock Analysis & Share Price Targets: HDFC AMC, ICICI Bank, Axis Bank, LIC Housing, Wockhardt, L&T Finance, Mazagon Dock, Mahindra & Mahindra \n",
      " Description: Kotak Mahindra Bank, NTPC, Bajaj Finance and Tata Motors were the biggest gainers. Mahindra & Mahindra, HDFC Bank, Tata Steel and JSW Steel were among the laggards. In Asian markets, Seoul and Tokyo quoted with gains while Shanghai and Hong Kong traded lower.\n",
      "\n",
      "Title: NTPC, ITC, BEL, L&T, RIL, Cochin Shipyard, NBCC: Nifty, CPSE, Nifty Bank rejigs on June 27; here's likely impact \n",
      " Description: BEL, Coal India Ltd, ONGC Ltd, NHPC Ltd, Oil India, Power Grid, Cochin Shipyard, NBCC, SJVN and NLC India will see some outflows due to fall in weights, as per the brokerage.\n",
      "\n",
      "Title: ICICI Bank Joins the $100 Billion Market Cap Club; Sixth Indian Company To Do So \n",
      " Description: ICICI Bank now shares the podium of $100 billion market cap with Reliance Industries, Tata Consultancy Services, HDFC Bank and Bharti Airtel. Notably, ICICI is the only other banking company in the top six besides HDFC Bank.\n",
      "\n",
      "Title: Market Morning: Sensex, Nifty off to a slow start, ICICI, HDFC bank take lead in early trade \n",
      " Description: Nifty auto, FMCG, pharma, metal, PSU bank, realty and healthcare were in red, while financial services, private bank, media, IT and consumer durables were in green. ICICI bank, BPCL, LTIMindtree were amongst gaining stocks during morning trade,\n",
      "\n",
      "Title: ATM Withdrawal Charges! What SBI, PNB, HDFC And ICICI Customers Need To Know \n",
      " Description: However, not all ATM transactions are free, and different banks have specific limits and charges. Here's a quick guide to the ATM withdrawal charges for customers of SBI , PNB, HDFC, and ICICI banks.\n",
      "\n",
      "Title: Bank NIFTY hits fresh record high, crosses 52,900 mark; private lenders lead \n",
      " Description: The rally in Bank NIFTY was in line with benchmark indices, with the BSE Sensex and NSE Nifty touching their respective new highs today.\n",
      "\n",
      "Title: 30-Year-Old Man Suffers Heart Attack At Uttar Pradesh Bank, Dies; Incident Captured On CCTV \n",
      " Description: Mahoba: In the recent past, we have come across numerous instances of young people suffering fatal heart attacks. In the latest instance reported from Mahoba in Uttar Pradesh, a 30-year-old bank employee suffered a heart attack while sitting at his workstation.\n",
      "\n",
      "Title: On CCTV, 30-Year-Old Employee Suffers Heart Attack, Dies At UP Bank \n",
      " Description: A video of a 30-year-old bank employee suffering a heart attack at his office has added to concerns over rising heart diseases among young Indians.\n",
      "\n",
      "Title: FIRST TRADE: Indices subdued; ICICI Bank, Bajaj Finserv among top Nifty50 gainers \n",
      " Description: Stock market today: The Indian share market on Wednesday (June 26) was muted with financials in focus after their recent rally and on relatively attractive valuations.At the last count, Sensex was up 0.05 per cent or 39.3 points at 78,092.55 and Nifty rose 0.04 per cent or 10.15 points at 23,731.45.\n",
      "\n",
      "Title: HDFC Bank updates rewards on Tata Neu Infinity card for UPI transactions \n",
      " Description: HDFC Bank will from August 1 implement changes to the Tata Neu Infinity credit card, which it provides in partnership with the Tata group. Customers who use the card for Unified Payments Interface (UPI) transactions will see modifications in the cashback ...\n",
      "\n",
      "Title: Stock market update: Nifty Bank index advances 0.5% \n",
      " Description: On the other hand, HDFC Bank Ltd.(down 0.58 per cent) and IDFC First Bank Ltd.(down 0.21 per cent) finished as the top losers of the day. The Nifty Bank index closed 0.5 per cent up at 52870.5. Benchmark NSE Nifty50 index ended up 147.5 points at 23868.8 ...\n",
      "\u001b[00m\n",
      "\u001b[32;1m\u001b[1;3mFinal Answer: \n",
      "1. Title: HDFC Bank poised for bullish breakout, says CLSA analyst \n",
      "   Description: CLSA's Laurence Balanco predicts bullish breakout for HDFC Bank stock, targeting 35-38% increase if resistance levels are surpassed.\n",
      "\n",
      "2. Title: Nifty, Nifty Bank, CPSE rejigs today; all eyes on NTPC, ITC, HDFC Bank, BEL, RIL shares \n",
      "   Description: Bharti Airtel, NTPC Ltd, Kotak Mahindra Bank Ltd, and ITC Ltd could attract net passive inflows to the tune of $36-$52 million due to adjustments while others such as Bharat Electronics Ltd, Reliance Industries, Larsen & Toubro Ltd and HDFC Bank Ltd are ...\n",
      "\n",
      "3. Title: HDFC Bank - Intimation Under Regulation 30 Of SEBI (Listing Obligations And Disclosure Requirements) Regulations, 2015 \n",
      "   Description: Advisory Alert: It has come to our attention that certain individuals are representing themselves as affiliates of Moneycontrol and soliciting funds on the false promise of assured returns on their investments. We wish to reiterate that Moneycontrol does ...\n",
      "\n",
      "4. Title: Experts Top Stock Analysis & Share Price Targets: HDFC AMC, ICICI Bank, Axis Bank, LIC Housing, Wockhardt, L&T Finance, Mazagon Dock, Mahindra & Mahindra \n",
      "   Description: Kotak Mahindra Bank, NTPC, Bajaj Finance and Tata Motors were the biggest gainers. Mahindra & Mahindra, HDFC Bank, Tata Steel and JSW Steel were among the laggards. In Asian markets, Seoul and Tokyo quoted with gains while Shanghai and Hong Kong traded lower.\n",
      "\n",
      "5. Title: ICICI Bank Joins the $100 Billion Market Cap Club; Sixth Indian Company To Do So \n",
      "   Description: ICICI Bank now shares the podium of $100 billion market cap with Reliance Industries, Tata Consultancy Services, HDFC Bank and Bharti Airtel. Notably, ICICI is the only other banking company in the top six besides HDFC Bank.\n",
      "\n",
      "6. Title: HDFC Bank updates rewards on Tata Neu Infinity card for UPI transactions \n",
      "   Description: HDFC Bank will from August 1 implement changes to the Tata Neu Infinity credit card, which it provides in partnership with the Tata group. Customers who use the card for Unified Payments Interface (UPI) transactions will see modifications in the cashback ...\n",
      "\n",
      "7. Title: Stock market update: Nifty Bank index advances 0.5% \n",
      "   Description: On the other hand, HDFC Bank Ltd.(down 0.58 per cent) and IDFC First Bank Ltd.(down 0.21 per cent) finished as the top losers of the day. The Nifty Bank index closed 0.5 per cent up at 52870.5. Benchmark NSE Nifty50 index ended up 147.5 points at 23868.8 ...\u001b[0m\n",
      "\n",
      "\u001b[1m> Finished chain.\u001b[0m\n",
      "\n",
      "\n",
      "\u001b[1m> Entering new CrewAgentExecutor chain...\u001b[0m\n",
      "\u001b[32;1m\u001b[1;3mI now can give a great answer\n",
      "\n",
      "Final Answer:\n",
      "1. HDFC Bank stock poised for bullish breakout, with CLSA analyst predicting a 35-38% increase if resistance levels are surpassed.\n",
      "2. HDFC Bank updates rewards on Tata Neu Infinity card for UPI transactions, implementing changes from August 1.\n",
      "3. HDFC Bank among the laggards in stock market performance, along with Mahindra & Mahindra, Tata Steel, and JSW Steel.\u001b[0m\n",
      "\n",
      "\u001b[1m> Finished chain.\u001b[0m\n",
      "1. HDFC Bank stock poised for bullish breakout, with CLSA analyst predicting a 35-38% increase if resistance levels are surpassed.\n",
      "2. HDFC Bank updates rewards on Tata Neu Infinity card for UPI transactions, implementing changes from August 1.\n",
      "3. HDFC Bank among the laggards in stock market performance, along with Mahindra & Mahindra, Tata Steel, and JSW Steel.\n"
     ]
    }
   ],
   "source": [
    "result = crew.kickoff(inputs={'topic': 'HDFC Bank'})\n",
    "print(result)"
   ]
  },
  {
   "cell_type": "code",
   "execution_count": 10,
   "id": "644133dd-bdfc-4e38-b85e-c5b352466cd5",
   "metadata": {},
   "outputs": [
    {
     "name": "stdout",
     "output_type": "stream",
     "text": [
      "1. HDFC Bank stock poised for bullish breakout, with CLSA analyst predicting a 35-38% increase if resistance levels are surpassed.\n",
      "2. HDFC Bank updates rewards on Tata Neu Infinity card for UPI transactions, implementing changes from August 1.\n",
      "3. HDFC Bank among the laggards in stock market performance, along with Mahindra & Mahindra, Tata Steel, and JSW Steel.\n"
     ]
    }
   ],
   "source": [
    "print(result)"
   ]
  },
  {
   "cell_type": "code",
   "execution_count": null,
   "id": "ca7ed4cf-e2e1-4d24-bee2-2361e44861d9",
   "metadata": {},
   "outputs": [],
   "source": []
  }
 ],
 "metadata": {
  "kernelspec": {
   "display_name": "Python 3 (ipykernel)",
   "language": "python",
   "name": "python3"
  },
  "language_info": {
   "codemirror_mode": {
    "name": "ipython",
    "version": 3
   },
   "file_extension": ".py",
   "mimetype": "text/x-python",
   "name": "python",
   "nbconvert_exporter": "python",
   "pygments_lexer": "ipython3",
   "version": "3.10.5"
  }
 },
 "nbformat": 4,
 "nbformat_minor": 5
}
